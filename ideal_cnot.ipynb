{
 "cells": [
  {
   "cell_type": "code",
   "execution_count": 2,
   "metadata": {},
   "outputs": [],
   "source": [
    "import bosonic\n",
    "import numpy as np\n",
    "from scipy.linalg import block_diag\n",
    "import matplotlib.pyplot as plt\n",
    "import functools"
   ]
  },
  {
   "cell_type": "markdown",
   "metadata": {},
   "source": [
    "## Gate Implement\n",
    "\n",
    "The code to get single-photon unitary transformation `U`. There are three different approaches."
   ]
  },
  {
   "cell_type": "markdown",
   "metadata": {},
   "source": [
    "### Matrix from materials of Corlan, 2015"
   ]
  },
  {
   "cell_type": "code",
   "execution_count": 144,
   "metadata": {},
   "outputs": [],
   "source": [
    "U = np.array([\n",
    "    [0.476, -0.622, -0.440, 0.440, 0, 0],\n",
    "    [-0.622, -0.476, 0, 0, 0.622, 0],\n",
    "    [-0.383, 0, 0.293, 0.707, -0.383, -0.348],\n",
    "    [0.383, 0, 0.707, 0.293, 0.383, 0.348],\n",
    "    [0, 0.622, -0.440, 0.440, 0.476, 0],\n",
    "    [0.306, 0, 0.166, -0.166, 0.306, -0.870]\n",
    "])\n",
    "\n",
    "U = block_diag(1, U)"
   ]
  },
  {
   "cell_type": "markdown",
   "metadata": {},
   "source": [
    "### Code from Michael"
   ]
  },
  {
   "cell_type": "code",
   "execution_count": 134,
   "metadata": {},
   "outputs": [],
   "source": [
    "r = np.sqrt([0, 0.227, 1 / 2, 1 / 2, 0.227, 1 / 2, 0.243, 1 / 2])\n",
    "t = np.sqrt([1 - r[i] ** 2 for i in range(len(r))])\n",
    "\n",
    "U = np.array([[1, 0, 0, 0, 0, 0, 0],\n",
    "                 # c0\n",
    "                 [0, r[1], -r[2] * t[1], -r[3] * t[2] * t[1], t[3] * t[2] * t[1], 0, 0],\n",
    "                 # |1>\n",
    "                 [0, -t[1] * r[5], -r[2] * r[1] * r[5] - t[2] * r[4] * t[5],\n",
    "                  -r[3] * t[2] * r[1] * r[5] + r[3] * r[2] * r[4] * t[5],\n",
    "                  +t[3] * t[2] * r[1] * r[5] - t[3] * r[2] * r[4] * t[5], t[4] * t[5], 0],\n",
    "                 # c1\n",
    "                 [0, -t[1] * t[5] * t[6] * t[7],\n",
    "                  r[2] * r[1] * t[5] * t[6] * t[7] - t[2] * r[4] * r[5] * t[6] * t[7],\n",
    "                  -r[3] * r[2] * r[4] * r[5] * t[6] * t[7] - r[3] * t[2] * r[1] * t[5] * t[6] * t[7] + t[3] * r[7],\n",
    "                  t[3] * t[2] * r[1] * t[5] * t[6] * t[7] + r[3] * r[7] + t[3] * r[2] * r[4] * r[5] * t[6] * t[7],\n",
    "                  -t[4] * r[5] * t[6] * t[7], -r[6] * t[7]],\n",
    "                 # t1\n",
    "                 [0, t[1] * t[5] * t[6] * r[7], r[2] * r[1] * t[5] * t[6] * r[7] - t[2] * r[4] * r[5] * t[6] * r[7],\n",
    "                  +r[3] * t[2] * r[1] * t[5] * t[6] * r[7] + r[3] * r[2] * r[4] * r[5] * t[6] * r[7] + t[3] * t[7],\n",
    "                  -t[3] * t[2] * r[1] * t[5] * t[6] * r[7] - t[3] * r[2] * r[4] * r[5] * t[6] * r[7] + r[3] * t[7],\n",
    "                  t[4] * r[5] * t[6] * r[7], r[6] * r[7]],\n",
    "                 # t0\n",
    "                 [0, 0, t[2] * t[4], -r[3] * r[2] * t[4], t[3] * r[2] * t[4], r[4], 0],\n",
    "                 # |1>\n",
    "                 [0, t[1] * t[5] * r[6], r[2] * r[1] * t[5] * r[6] - t[2] * r[4] * r[5] * r[6],\n",
    "                  r[3] * r[2] * r[4] * r[5] * r[6] + r[3] * t[2] * r[1] * t[5] * r[6],\n",
    "                  -t[3] * t[2] * r[1] * t[5] * r[6] - t[3] * r[2] * r[4] * r[5] * r[6],\n",
    "                  t[4] * r[5] * r[6], -t[6]]])\n",
    "# |0>\n"
   ]
  },
  {
   "cell_type": "code",
   "execution_count": 172,
   "metadata": {},
   "outputs": [
    {
     "data": {
      "text/plain": [
       "array([[ 1.        +0.j,  0.        +0.j,  0.        +0.j,\n",
       "         0.        +0.j,  0.        +0.j,  0.        +0.j,\n",
       "         0.        +0.j],\n",
       "       [ 0.        +0.j,  0.47644517+0.j,  0.68864759+0.j,\n",
       "         0.41576296+0.j,  0.57851039+0.j,  0.70852764+0.j,\n",
       "         0.        +0.j],\n",
       "       [ 0.        +0.j,  0.68864759+0.j,  0.11911129+0.j,\n",
       "        -0.28764822+0.j, -0.40024606+0.j, -0.49019931+0.j,\n",
       "         0.8434176 +0.j],\n",
       "       [ 0.        +0.j,  0.59638631+0.j, -0.41261362+0.j,\n",
       "        -0.04151844+0.j,  0.69222946+0.j, -0.68312661+0.j,\n",
       "        -0.48694738+0.j],\n",
       "       [ 0.        +0.j,  0.73042107+0.j, -0.50534642+0.j,\n",
       "        -0.0508495 +0.j, -0.68312661+0.j,  0.41334419+0.j,\n",
       "        -0.59638631+0.j],\n",
       "       [ 0.        +0.j,  0.        +0.j,  0.8434176 +0.j,\n",
       "        -0.33946904+0.j, -0.47235176+0.j, -0.57851039+0.j,\n",
       "        -0.47644517+0.j],\n",
       "       [ 0.        +0.j,  0.        +0.j,  0.        +0.j,\n",
       "         0.97002629+0.j, -0.3485685 +0.j, -0.42690748+0.j,\n",
       "         0.        +0.j]])"
      ]
     },
     "execution_count": 172,
     "metadata": {},
     "output_type": "execute_result"
    }
   ],
   "source": [
    "U"
   ]
  },
  {
   "cell_type": "markdown",
   "metadata": {},
   "source": [
    "### My Implementation from figures and parameters from paper Corlan, 2015"
   ]
  },
  {
   "cell_type": "code",
   "execution_count": 56,
   "metadata": {},
   "outputs": [],
   "source": [
    "def mzi(alpha, phi):\n",
    "    return np.array([\n",
    "        [np.exp(1j*phi) * np.sin(alpha/2), np.exp(1j*phi) * np.cos(alpha/2)],\n",
    "        [np.cos(alpha/2), -np.sin(alpha/2)]\n",
    "    ])\n",
    "\n",
    "\n",
    "'''\n",
    "    alpha_arr, phi_arr is taken from Supplementary Material S3.4\n",
    "'''\n",
    "\n",
    "alpha_arr = np.array([\n",
    "    [0.992, 1.571, 4.957, 1.792, 0.],\n",
    "    [0., 1.571, 0.992, 0., 0],\n",
    "    [0., 0., 1.571, 0., 2.226],\n",
    "    [0., 0., 0., 3.142, 0.],\n",
    "    [0., 0., 0., 0., 0.]\n",
    "])\n",
    "\n",
    "phi_arr = np.array([\n",
    "    [0., 4.712, 4.544, 5.375, 3.816],\n",
    "    [0., 0., 1.571, 2.188, 4.712],\n",
    "    [0., 0., 0., 5.498, 1.571],\n",
    "    [0., 0., 0., 0., 3.142],\n",
    "    [0., 0., 0., 0., 0.]\n",
    "])"
   ]
  },
  {
   "cell_type": "code",
   "execution_count": 57,
   "metadata": {},
   "outputs": [],
   "source": [
    "ordered_pairs = [ (i,j) for i in np.arange(5,1-1,-1) for j in np.arange(i,6,1) ]\n",
    "\n",
    "'''\n",
    "    Multiply matrices by order:\n",
    "    (m-1,m-1),\n",
    "    (m-2,m-2), (m-2,m-1),\n",
    "    ...,\n",
    "    (1,1), (1,2), ..., (1,m-1)\n",
    "'''\n",
    "U = np.linalg.multi_dot(\n",
    "    [block_diag(\n",
    "        np.eye(pair[1]-1),\n",
    "        mzi(alpha_arr[pair[0]-1,pair[1]-1], phi_arr[pair[0]-1,pair[1]-1]),\n",
    "        np.eye(5-pair[1])) for pair in ordered_pairs])\n",
    "U = block_diag(1,U)"
   ]
  },
  {
   "cell_type": "code",
   "execution_count": 58,
   "metadata": {},
   "outputs": [
    {
     "data": {
      "text/plain": [
       "array([[ 1.00000000e+00+0.00000000e+00j,  0.00000000e+00+0.00000000e+00j,\n",
       "         0.00000000e+00+0.00000000e+00j,  0.00000000e+00+0.00000000e+00j,\n",
       "         0.00000000e+00+0.00000000e+00j,  0.00000000e+00+0.00000000e+00j,\n",
       "         0.00000000e+00+0.00000000e+00j],\n",
       "       [ 0.00000000e+00+0.00000000e+00j,  4.75911382e-01+0.00000000e+00j,\n",
       "        -2.41929830e-04-6.21958914e-01j, -3.77334368e-01+6.42974132e-02j,\n",
       "         1.81380927e-01-3.36937712e-01j,  0.00000000e+00+0.00000000e+00j,\n",
       "        -2.81686409e-01+1.19944689e-01j],\n",
       "       [ 0.00000000e+00+0.00000000e+00j,  6.21958961e-01+0.00000000e+00j,\n",
       "         4.41236191e-05+4.75911359e-01j, -1.45566454e-05-8.55799439e-05j,\n",
       "         7.64018797e-05+4.11580054e-05j, -3.59795832e-01+5.07170943e-01j,\n",
       "        -2.71833134e-05-6.38916928e-05j],\n",
       "       [ 0.00000000e+00+0.00000000e+00j,  4.39746610e-01+0.00000000e+00j,\n",
       "         9.97300928e-05-9.24035112e-09j, -1.49052375e-01-3.88321038e-01j,\n",
       "        -2.62797925e-01+3.57644362e-01j,  2.54491808e-01-3.58733589e-01j,\n",
       "         3.87073397e-01+3.05547293e-01j],\n",
       "       [ 0.00000000e+00+0.00000000e+00j,  4.39657045e-01+0.00000000e+00j,\n",
       "         9.97097804e-05-9.23846911e-09j,  5.57481912e-01+3.18921759e-01j,\n",
       "         6.62649182e-02+6.98037196e-03j,  2.54439975e-01-3.58660525e-01j,\n",
       "        -8.22770936e-02-4.35451655e-01j],\n",
       "       [ 0.00000000e+00+0.00000000e+00j,  0.00000000e+00+0.00000000e+00j,\n",
       "         6.21832298e-01+0.00000000e+00j,  6.41636997e-02+3.77436216e-01j,\n",
       "        -3.36935750e-01-1.81548948e-01j, -3.88212860e-01-2.75286068e-01j,\n",
       "         1.19859519e-01+2.81790432e-01j],\n",
       "       [ 0.00000000e+00+0.00000000e+00j, -8.95463608e-05+0.00000000e+00j,\n",
       "        -2.03082108e-08+1.88162864e-12j, -3.48428586e-01-2.06840707e-04j,\n",
       "        -6.91173915e-01+1.67196965e-01j, -5.18226059e-05+7.30495397e-05j,\n",
       "        -3.81536946e-01-4.76813185e-01j]])"
      ]
     },
     "execution_count": 58,
     "metadata": {},
     "output_type": "execute_result"
    }
   ],
   "source": [
    "U"
   ]
  },
  {
   "cell_type": "markdown",
   "metadata": {},
   "source": [
    "## Gate Evaluation"
   ]
  },
  {
   "cell_type": "code",
   "execution_count": 59,
   "metadata": {},
   "outputs": [],
   "source": [
    "cnot_gate = bosonic.aa_phi(U.astype('complex'), 4)"
   ]
  },
  {
   "cell_type": "code",
   "execution_count": 60,
   "metadata": {},
   "outputs": [],
   "source": [
    "cnot_inputs = np.array([[1, 1, 0, 1, 0, 1, 0],\n",
    "                        [1, 1, 0, 0, 1, 1, 0],\n",
    "                        [0, 1, 1, 1, 0, 1, 0],\n",
    "                        [0, 1, 1, 0, 1, 1, 0]])\n",
    "\n",
    "input_indices = np.ndarray(shape=(4, 1), dtype=int)\n",
    "gate_basis = np.array(bosonic.fock.basis(4, 7))\n",
    "\n",
    "for i in range(np.size(cnot_inputs, 0)):\n",
    "        input_indices[i] = np.where((gate_basis == cnot_inputs[i]).all(axis=1))\n",
    "        \n",
    "inputs_fock = np.zeros((gate_basis.shape[0], 4), dtype='complex')\n",
    "\n",
    "for i in range(4):\n",
    "    inputs_fock[input_indices[i,0], i] = 1"
   ]
  },
  {
   "cell_type": "code",
   "execution_count": 61,
   "metadata": {},
   "outputs": [],
   "source": [
    "cnot_outputs = cnot_gate.dot(inputs_fock)\n",
    "cnot_output_probs = np.abs(cnot_outputs)[input_indices].T ** 2"
   ]
  },
  {
   "cell_type": "code",
   "execution_count": 62,
   "metadata": {},
   "outputs": [
    {
     "data": {
      "text/plain": [
       "((210, 4), (4, 1))"
      ]
     },
     "execution_count": 62,
     "metadata": {},
     "output_type": "execute_result"
    }
   ],
   "source": [
    "cnot_outputs.shape, input_indices.shape"
   ]
  },
  {
   "cell_type": "code",
   "execution_count": 63,
   "metadata": {},
   "outputs": [
    {
     "data": {
      "text/plain": [
       "Text(0.5, 0.9660000000000001, 'Heralded CNOT Gate Truth Table')"
      ]
     },
     "execution_count": 63,
     "metadata": {},
     "output_type": "execute_result"
    },
    {
     "data": {
      "image/png": "[encoded data removed]",
      "text/plain": [
       "<Figure size 432x432 with 1 Axes>"
      ]
     },
     "metadata": {
      "needs_background": "light"
     },
     "output_type": "display_data"
    }
   ],
   "source": [
    "fig_cnot = plt.figure(figsize=(6,6))\n",
    "ax1 = fig_cnot.add_subplot(111, projection='3d')\n",
    "cnot_truth_table_plot = np.array(\n",
    "    [cnot_output_probs[i,:]/np.sum(cnot_output_probs[i,:]) for i in range(4)]).ravel()\n",
    "\n",
    "_x = np.arange(4)\n",
    "_y = np.arange(4)\n",
    "_xx, _yy = np.meshgrid(_x, _y)\n",
    "x, y = _xx.ravel(), _yy.ravel()\n",
    "labels = ['C0T0', 'C0T1', 'C1T0', 'C1T1']\n",
    "\n",
    "top = 1\n",
    "bottom = np.zeros_like(top)\n",
    "width = depth = 0.7\n",
    "\n",
    "ax1.bar3d(x, y, bottom, width, depth, cnot_truth_table_plot, shade=True)\n",
    "ax1.set_xticks(np.arange(4)+1/2)\n",
    "ax1.set_yticks(np.arange(4)+1/2)\n",
    "ax1.set_xticklabels(labels,fontsize=13)\n",
    "ax1.set_yticklabels(labels,fontsize=13)\n",
    "# ax1.set_xlabel('Input',fontsize=15,rotation=0)\n",
    "# ax1.set_ylabel('Output',fontsize=15,rotation=0)\n",
    "# ax1.yaxis._axinfo['label']['space_factor'] = 1.0\n",
    "ax1.xaxis.set_rotate_label(False) \n",
    "ax1.yaxis.set_rotate_label(False) \n",
    "ax1.set_zticks([0, 0.2, 0.4, 0.6, 0.8, 1.0])\n",
    "ax1.set_title('Heralded CNOT Gate Truth Table',fontsize=16,y=1.05)"
   ]
  },
  {
   "cell_type": "code",
   "execution_count": null,
   "metadata": {},
   "outputs": [],
   "source": []
  }
 ],
 "metadata": {
  "kernelspec": {
   "display_name": "Python 3",
   "language": "python",
   "name": "python3"
  },
  "language_info": {
   "codemirror_mode": {
    "name": "ipython",
    "version": 3
   },
   "file_extension": ".py",
   "mimetype": "text/x-python",
   "name": "python",
   "nbconvert_exporter": "python",
   "pygments_lexer": "ipython3",
   "version": "3.8.2"
  }
 },
 "nbformat": 4,
 "nbformat_minor": 4
}
